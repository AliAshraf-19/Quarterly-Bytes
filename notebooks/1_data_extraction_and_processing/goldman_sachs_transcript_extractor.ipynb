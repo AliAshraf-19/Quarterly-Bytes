{
  "cells": [
    {
      "cell_type": "markdown",
      "id": "3390045b",
      "metadata": {
        "id": "3390045b"
      },
      "source": [
        "# Setup, Constants, and Imports"
      ]
    },
    {
      "cell_type": "code",
      "execution_count": 1,
      "id": "70ea4469",
      "metadata": {
        "id": "70ea4469"
      },
      "outputs": [],
      "source": [
        "import os\n",
        "import sys\n",
        "import logging"
      ]
    },
    {
      "cell_type": "markdown",
      "id": "fd643fb0",
      "metadata": {
        "id": "fd643fb0"
      },
      "source": [
        "## Notebook Configs"
      ]
    },
    {
      "cell_type": "code",
      "execution_count": 2,
      "id": "3c08565b",
      "metadata": {
        "id": "3c08565b"
      },
      "outputs": [],
      "source": [
        "IS_COLAB = True # Update this if running in Google Colab\n",
        "OUTPUT_PROCESSED_FILES = True"
      ]
    },
    {
      "cell_type": "markdown",
      "id": "cd9d4e41",
      "metadata": {
        "id": "cd9d4e41"
      },
      "source": [
        "## Constants"
      ]
    },
    {
      "cell_type": "code",
      "execution_count": 10,
      "id": "5129180d",
      "metadata": {
        "id": "5129180d"
      },
      "outputs": [],
      "source": [
        "REPO_URL = \"https://github.com/EErlando/Quarterly-Bytes.git\"\n",
        "REPO_NAME = \"src\"\n",
        "REPO_BRANCH = \"pdf_extraction_and_restructuring\" # CHANGE THIS IF NEED\n",
        "ALL_TRANSCRIPTS_PATH = \"data/raw/Goldman Sachs/Transcripts\"\n",
        "NOTEBOOK_DIR = \"1_data_extraction_and_processing\" # Update this to your notebook directory"
      ]
    },
    {
      "cell_type": "markdown",
      "id": "0864529e",
      "metadata": {
        "id": "0864529e"
      },
      "source": [
        "## Clone and Pull Latest from Repository - Colab Specific"
      ]
    },
    {
      "cell_type": "code",
      "execution_count": 14,
      "id": "91c87440",
      "metadata": {
        "colab": {
          "base_uri": "https://localhost:8080/"
        },
        "id": "91c87440",
        "outputId": "2020e11b-5e1a-4872-cf67-f6692e761ed9"
      },
      "outputs": [
        {
          "output_type": "stream",
          "name": "stdout",
          "text": [
            "fatal: not in a git directory\n",
            "Directory 'src' already exists. Pulling latest changes...\n",
            "/content/src\n",
            "\u001b[33mhint: You have divergent branches and need to specify how to reconcile them.\u001b[m\n",
            "\u001b[33mhint: You can do so by running one of the following commands sometime before\u001b[m\n",
            "\u001b[33mhint: your next pull:\u001b[m\n",
            "\u001b[33mhint: \u001b[m\n",
            "\u001b[33mhint:   git config pull.rebase false  # merge (the default strategy)\u001b[m\n",
            "\u001b[33mhint:   git config pull.rebase true   # rebase\u001b[m\n",
            "\u001b[33mhint:   git config pull.ff only       # fast-forward only\u001b[m\n",
            "\u001b[33mhint: \u001b[m\n",
            "\u001b[33mhint: You can replace \"git config\" with \"git config --global\" to set a default\u001b[m\n",
            "\u001b[33mhint: preference for all repositories. You can also pass --rebase, --no-rebase,\u001b[m\n",
            "\u001b[33mhint: or --ff-only on the command line to override the configured default per\u001b[m\n",
            "\u001b[33mhint: invocation.\u001b[m\n",
            "fatal: Need to specify how to reconcile divergent branches.\n",
            "/content\n"
          ]
        }
      ],
      "source": [
        "if IS_COLAB:\n",
        "    !git config pull.rebase false\n",
        "    if os.path.exists(REPO_NAME):\n",
        "        print(f\"Directory '{REPO_NAME}' already exists. Pulling latest changes...\")\n",
        "        %cd {REPO_NAME}\n",
        "        !git pull origin {REPO_BRANCH} --quiet\n",
        "        %cd ..\n",
        "    else:\n",
        "        print(f\"Cloning repository into '{REPO_NAME}'...\")\n",
        "        !git clone --quiet --branch {REPO_BRANCH} {REPO_URL} {REPO_NAME}\n",
        "        print(\"Clone complete.\")\n",
        "\n",
        "    sys.path.append('/content/src/')\n",
        "else:\n",
        "    if os.path.basename(os.getcwd()) == NOTEBOOK_DIR:\n",
        "        os.chdir('../../')\n",
        "\n",
        "logging.basicConfig(level=logging.ERROR, format='%(levelname)s: %(message)s')"
      ]
    },
    {
      "cell_type": "markdown",
      "id": "62b50738",
      "metadata": {
        "id": "62b50738"
      },
      "source": [
        "## Local Imports"
      ]
    },
    {
      "cell_type": "code",
      "execution_count": 5,
      "id": "4f87c1ff",
      "metadata": {
        "colab": {
          "base_uri": "https://localhost:8080/",
          "height": 447
        },
        "id": "4f87c1ff",
        "outputId": "529a3f23-1a51-419c-912a-9cbdab202aad"
      },
      "outputs": [
        {
          "output_type": "error",
          "ename": "ModuleNotFoundError",
          "evalue": "No module named 'PyPDF2'",
          "traceback": [
            "\u001b[0;31m---------------------------------------------------------------------------\u001b[0m",
            "\u001b[0;31mModuleNotFoundError\u001b[0m                       Traceback (most recent call last)",
            "\u001b[0;32m<ipython-input-5-376d8bee9d21>\u001b[0m in \u001b[0;36m<cell line: 0>\u001b[0;34m()\u001b[0m\n\u001b[0;32m----> 1\u001b[0;31m \u001b[0;32mfrom\u001b[0m \u001b[0msrc\u001b[0m\u001b[0;34m.\u001b[0m\u001b[0mutils\u001b[0m\u001b[0;34m.\u001b[0m\u001b[0mpdf_utils\u001b[0m \u001b[0;32mimport\u001b[0m \u001b[0mextract_transcripts_pdf_df_from_dir\u001b[0m\u001b[0;34m,\u001b[0m \u001b[0mBankType\u001b[0m\u001b[0;34m\u001b[0m\u001b[0;34m\u001b[0m\u001b[0m\n\u001b[0m",
            "\u001b[0;32m/content/src/utils/pdf_utils.py\u001b[0m in \u001b[0;36m<module>\u001b[0;34m\u001b[0m\n\u001b[0;32m----> 1\u001b[0;31m \u001b[0;32mimport\u001b[0m \u001b[0mPyPDF2\u001b[0m\u001b[0;34m\u001b[0m\u001b[0;34m\u001b[0m\u001b[0m\n\u001b[0m\u001b[1;32m      2\u001b[0m \u001b[0;32mimport\u001b[0m \u001b[0mlogging\u001b[0m\u001b[0;34m\u001b[0m\u001b[0;34m\u001b[0m\u001b[0m\n\u001b[1;32m      3\u001b[0m \u001b[0;34m\u001b[0m\u001b[0m\n\u001b[1;32m      4\u001b[0m \u001b[0mlogging\u001b[0m\u001b[0;34m.\u001b[0m\u001b[0mbasicConfig\u001b[0m\u001b[0;34m(\u001b[0m\u001b[0mlevel\u001b[0m\u001b[0;34m=\u001b[0m\u001b[0mlogging\u001b[0m\u001b[0;34m.\u001b[0m\u001b[0mERROR\u001b[0m\u001b[0;34m,\u001b[0m \u001b[0mformat\u001b[0m\u001b[0;34m=\u001b[0m\u001b[0;34m'%(levelname)s: %(message)s'\u001b[0m\u001b[0;34m)\u001b[0m\u001b[0;34m\u001b[0m\u001b[0;34m\u001b[0m\u001b[0m\n\u001b[1;32m      5\u001b[0m \u001b[0;34m\u001b[0m\u001b[0m\n",
            "\u001b[0;31mModuleNotFoundError\u001b[0m: No module named 'PyPDF2'",
            "",
            "\u001b[0;31m---------------------------------------------------------------------------\u001b[0;32m\nNOTE: If your import is failing due to a missing package, you can\nmanually install dependencies using either !pip or !apt.\n\nTo view examples of installing some common dependencies, click the\n\"Open Examples\" button below.\n\u001b[0;31m---------------------------------------------------------------------------\u001b[0m\n"
          ],
          "errorDetails": {
            "actions": [
              {
                "action": "open_url",
                "actionText": "Open Examples",
                "url": "/notebooks/snippets/importing_libraries.ipynb"
              }
            ]
          }
        }
      ],
      "source": [
        "from src.utils.pdf_utils import extract_transcripts_pdf_df_from_dir, BankType"
      ]
    },
    {
      "cell_type": "markdown",
      "id": "e76e23b5",
      "metadata": {
        "id": "e76e23b5"
      },
      "source": [
        "# Get Transcript Files"
      ]
    },
    {
      "cell_type": "code",
      "execution_count": null,
      "id": "2545bfb2",
      "metadata": {
        "id": "2545bfb2"
      },
      "outputs": [],
      "source": [
        "qna_df, discussion_df = extract_transcripts_pdf_df_from_dir(ALL_TRANSCRIPTS_PATH, BankType.GOLDMAN_SACHS)"
      ]
    },
    {
      "cell_type": "code",
      "execution_count": null,
      "id": "873e534d",
      "metadata": {
        "id": "873e534d",
        "outputId": "adaaf513-e51c-4c83-a5fc-80bb8be720a4"
      },
      "outputs": [
        {
          "data": {
            "text/html": [
              "<div>\n",
              "<style scoped>\n",
              "    .dataframe tbody tr th:only-of-type {\n",
              "        vertical-align: middle;\n",
              "    }\n",
              "\n",
              "    .dataframe tbody tr th {\n",
              "        vertical-align: top;\n",
              "    }\n",
              "\n",
              "    .dataframe thead th {\n",
              "        text-align: right;\n",
              "    }\n",
              "</style>\n",
              "<table border=\"1\" class=\"dataframe\">\n",
              "  <thead>\n",
              "    <tr style=\"text-align: right;\">\n",
              "      <th></th>\n",
              "      <th>question_order</th>\n",
              "      <th>question_answer_group_id</th>\n",
              "      <th>speaker</th>\n",
              "      <th>role</th>\n",
              "      <th>content_type</th>\n",
              "      <th>content</th>\n",
              "      <th>quarter</th>\n",
              "      <th>year</th>\n",
              "    </tr>\n",
              "  </thead>\n",
              "  <tbody>\n",
              "    <tr>\n",
              "      <th>0</th>\n",
              "      <td>0</td>\n",
              "      <td>0</td>\n",
              "      <td>Glenn Schorr</td>\n",
              "      <td>question</td>\n",
              "      <td>question</td>\n",
              "      <td>so, trading question, i mean, markets busines...</td>\n",
              "      <td>3</td>\n",
              "      <td>2024</td>\n",
              "    </tr>\n",
              "    <tr>\n",
              "      <th>1</th>\n",
              "      <td>1</td>\n",
              "      <td>0</td>\n",
              "      <td>David Solomon</td>\n",
              "      <td>answer</td>\n",
              "      <td>answer</td>\n",
              "      <td>i appreciate the question, glenn, and i mean,...</td>\n",
              "      <td>3</td>\n",
              "      <td>2024</td>\n",
              "    </tr>\n",
              "    <tr>\n",
              "      <th>2</th>\n",
              "      <td>2</td>\n",
              "      <td>0</td>\n",
              "      <td>Glenn Schorr</td>\n",
              "      <td>question</td>\n",
              "      <td>question</td>\n",
              "      <td>i appreciate that. this one will be a short f...</td>\n",
              "      <td>3</td>\n",
              "      <td>2024</td>\n",
              "    </tr>\n",
              "    <tr>\n",
              "      <th>3</th>\n",
              "      <td>3</td>\n",
              "      <td>0</td>\n",
              "      <td>Denis Coleman</td>\n",
              "      <td>answer</td>\n",
              "      <td>answer</td>\n",
              "      <td>glenn, its denis. i guess what i would sugges...</td>\n",
              "      <td>3</td>\n",
              "      <td>2024</td>\n",
              "    </tr>\n",
              "    <tr>\n",
              "      <th>4</th>\n",
              "      <td>0</td>\n",
              "      <td>1</td>\n",
              "      <td>Ebrahim Poonawala</td>\n",
              "      <td>question</td>\n",
              "      <td>question</td>\n",
              "      <td>i just had a follow-up ﬁrst on trading and ma...</td>\n",
              "      <td>3</td>\n",
              "      <td>2024</td>\n",
              "    </tr>\n",
              "  </tbody>\n",
              "</table>\n",
              "</div>"
            ],
            "text/plain": [
              "   question_order  question_answer_group_id            speaker      role  \\\n",
              "0               0                         0       Glenn Schorr  question   \n",
              "1               1                         0      David Solomon    answer   \n",
              "2               2                         0       Glenn Schorr  question   \n",
              "3               3                         0      Denis Coleman    answer   \n",
              "4               0                         1  Ebrahim Poonawala  question   \n",
              "\n",
              "  content_type                                            content quarter  \\\n",
              "0     question   so, trading question, i mean, markets busines...       3   \n",
              "1       answer   i appreciate the question, glenn, and i mean,...       3   \n",
              "2     question   i appreciate that. this one will be a short f...       3   \n",
              "3       answer   glenn, its denis. i guess what i would sugges...       3   \n",
              "4     question   i just had a follow-up ﬁrst on trading and ma...       3   \n",
              "\n",
              "   year  \n",
              "0  2024  \n",
              "1  2024  \n",
              "2  2024  \n",
              "3  2024  \n",
              "4  2024  "
            ]
          },
          "execution_count": 7,
          "metadata": {},
          "output_type": "execute_result"
        }
      ],
      "source": [
        "qna_df.head()"
      ]
    },
    {
      "cell_type": "code",
      "execution_count": null,
      "id": "5fb42cc8",
      "metadata": {
        "id": "5fb42cc8",
        "outputId": "8285c66a-2bc8-4f81-d7f9-f0c744d54617"
      },
      "outputs": [
        {
          "data": {
            "text/html": [
              "<div>\n",
              "<style scoped>\n",
              "    .dataframe tbody tr th:only-of-type {\n",
              "        vertical-align: middle;\n",
              "    }\n",
              "\n",
              "    .dataframe tbody tr th {\n",
              "        vertical-align: top;\n",
              "    }\n",
              "\n",
              "    .dataframe thead th {\n",
              "        text-align: right;\n",
              "    }\n",
              "</style>\n",
              "<table border=\"1\" class=\"dataframe\">\n",
              "  <thead>\n",
              "    <tr style=\"text-align: right;\">\n",
              "      <th></th>\n",
              "      <th>speaker</th>\n",
              "      <th>role</th>\n",
              "      <th>content</th>\n",
              "      <th>quarter</th>\n",
              "      <th>year</th>\n",
              "    </tr>\n",
              "  </thead>\n",
              "  <tbody>\n",
              "    <tr>\n",
              "      <th>0</th>\n",
              "      <td>David Solomon</td>\n",
              "      <td>[Chairman, Chief Executive Ofﬁcer]</td>\n",
              "      <td>Thank you, operator , good morning, everyone....</td>\n",
              "      <td>3</td>\n",
              "      <td>2024</td>\n",
              "    </tr>\n",
              "    <tr>\n",
              "      <th>1</th>\n",
              "      <td>Denis Coleman</td>\n",
              "      <td>[Chief Financial Ofﬁcer]</td>\n",
              "      <td>Thank you, David. Good morning. Let's start w...</td>\n",
              "      <td>3</td>\n",
              "      <td>2024</td>\n",
              "    </tr>\n",
              "    <tr>\n",
              "      <th>2</th>\n",
              "      <td>David Solomon</td>\n",
              "      <td>[Chairman, CEO]</td>\n",
              "      <td>Thank you, operator , and good morning, every...</td>\n",
              "      <td>4</td>\n",
              "      <td>2024</td>\n",
              "    </tr>\n",
              "    <tr>\n",
              "      <th>3</th>\n",
              "      <td>Denis Coleman</td>\n",
              "      <td>[CFO]</td>\n",
              "      <td>Thank you, David, and good morning. Let's sta...</td>\n",
              "      <td>4</td>\n",
              "      <td>2024</td>\n",
              "    </tr>\n",
              "    <tr>\n",
              "      <th>4</th>\n",
              "      <td>Carey Halio</td>\n",
              "      <td>[Head of Investor Relations, Chief Strategy Of...</td>\n",
              "      <td>Thank you. Good morning. This is Carey Halio,...</td>\n",
              "      <td>2</td>\n",
              "      <td>2023</td>\n",
              "    </tr>\n",
              "  </tbody>\n",
              "</table>\n",
              "</div>"
            ],
            "text/plain": [
              "         speaker                                               role  \\\n",
              "0  David Solomon                 [Chairman, Chief Executive Ofﬁcer]   \n",
              "1  Denis Coleman                           [Chief Financial Ofﬁcer]   \n",
              "2  David Solomon                                    [Chairman, CEO]   \n",
              "3  Denis Coleman                                              [CFO]   \n",
              "4    Carey Halio  [Head of Investor Relations, Chief Strategy Of...   \n",
              "\n",
              "                                             content quarter  year  \n",
              "0   Thank you, operator , good morning, everyone....       3  2024  \n",
              "1   Thank you, David. Good morning. Let's start w...       3  2024  \n",
              "2   Thank you, operator , and good morning, every...       4  2024  \n",
              "3   Thank you, David, and good morning. Let's sta...       4  2024  \n",
              "4   Thank you. Good morning. This is Carey Halio,...       2  2023  "
            ]
          },
          "execution_count": 8,
          "metadata": {},
          "output_type": "execute_result"
        }
      ],
      "source": [
        "discussion_df.head()"
      ]
    },
    {
      "cell_type": "code",
      "execution_count": null,
      "id": "725ee5b0",
      "metadata": {
        "id": "725ee5b0",
        "outputId": "9d54def8-5e74-4e75-f174-f30b7fd0b6e6"
      },
      "outputs": [
        {
          "name": "stdout",
          "output_type": "stream",
          "text": [
            "Processed files saved successfully.\n"
          ]
        }
      ],
      "source": [
        "if OUTPUT_PROCESSED_FILES:\n",
        "    qna_df.to_csv('data/processed/Goldman Sachs/qna_df.csv', index=False)\n",
        "    discussion_df.to_csv('data/processed/Goldman Sachs/discussion_df.csv', index=False)\n",
        "    print(\"Processed files saved successfully.\")"
      ]
    }
  ],
  "metadata": {
    "kernelspec": {
      "display_name": "Python 3",
      "language": "python",
      "name": "python3"
    },
    "language_info": {
      "codemirror_mode": {
        "name": "ipython",
        "version": 3
      },
      "file_extension": ".py",
      "mimetype": "text/x-python",
      "name": "python",
      "nbconvert_exporter": "python",
      "pygments_lexer": "ipython3",
      "version": "3.11.4"
    },
    "colab": {
      "provenance": []
    }
  },
  "nbformat": 4,
  "nbformat_minor": 5
}