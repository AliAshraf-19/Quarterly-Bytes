{
  "cells": [
    {
      "cell_type": "markdown",
      "id": "3390045b",
      "metadata": {
        "id": "3390045b"
      },
      "source": [
        "# Setup, Constants, and Imports"
      ]
    },
    {
      "cell_type": "code",
      "execution_count": 1,
      "id": "70ea4469",
      "metadata": {
        "id": "70ea4469"
      },
      "outputs": [],
      "source": [
        "import os\n",
        "import sys\n",
        "import logging"
      ]
    },
    {
      "cell_type": "markdown",
      "id": "fd643fb0",
      "metadata": {
        "id": "fd643fb0"
      },
      "source": [
        "## Notebook Configs"
      ]
    },
    {
      "cell_type": "code",
      "execution_count": 7,
      "id": "3c08565b",
      "metadata": {
        "id": "3c08565b"
      },
      "outputs": [],
      "source": [
        "IS_COLAB = True # Update this if running in Google Colab\n",
        "OUTPUT_PROCESSED_FILES = True"
      ]
    },
    {
      "cell_type": "markdown",
      "id": "cd9d4e41",
      "metadata": {
        "id": "cd9d4e41"
      },
      "source": [
        "## Constants"
      ]
    },
    {
      "cell_type": "code",
      "execution_count": 8,
      "id": "5129180d",
      "metadata": {
        "id": "5129180d"
      },
      "outputs": [],
      "source": [
        "REPO_URL = \"https://github.com/EErlando/Quarterly-Bytes.git\"\n",
        "REPO_NAME = \"src\"\n",
        "REPO_BRANCH = \"pdf_extraction_and_restructuring\" # CHANGE THIS IF NEED\n",
        "ALL_TRANSCRIPTS_PATH = \"data/raw/Goldman Sachs/Transcripts\"\n",
        "NOTEBOOK_DIR = \"1_data_extraction_and_processing\" # Update this to your notebook directory"
      ]
    },
    {
      "cell_type": "markdown",
      "id": "0864529e",
      "metadata": {
        "id": "0864529e"
      },
      "source": [
        "## Clone and Pull Latest from Repository - Colab Specific"
      ]
    },
    {
      "cell_type": "code",
      "execution_count": 9,
      "id": "91c87440",
      "metadata": {
        "colab": {
          "base_uri": "https://localhost:8080/"
        },
        "id": "91c87440",
        "outputId": "c518b5a0-cf73-42d0-f8c8-d4cf3beeed2f"
      },
      "outputs": [
        {
          "output_type": "stream",
          "name": "stdout",
          "text": [
            "fatal: not in a git directory\n",
            "Cloning repository into 'src'...\n",
            "Clone complete.\n",
            "/content/src\n",
            "Collecting PyPDF2==3.0.1 (from -r requirements.txt (line 1))\n",
            "  Downloading pypdf2-3.0.1-py3-none-any.whl.metadata (6.8 kB)\n",
            "Downloading pypdf2-3.0.1-py3-none-any.whl (232 kB)\n",
            "\u001b[2K   \u001b[90m━━━━━━━━━━━━━━━━━━━━━━━━━━━━━━━━━━━━━━━━\u001b[0m \u001b[32m232.6/232.6 kB\u001b[0m \u001b[31m4.4 MB/s\u001b[0m eta \u001b[36m0:00:00\u001b[0m\n",
            "\u001b[?25hInstalling collected packages: PyPDF2\n",
            "Successfully installed PyPDF2-3.0.1\n"
          ]
        }
      ],
      "source": [
        "if IS_COLAB:\n",
        "    !git config pull.rebase false\n",
        "    if os.path.exists(REPO_NAME):\n",
        "        print(f\"Directory '{REPO_NAME}' already exists. Pulling latest changes...\")\n",
        "        %cd {REPO_NAME}\n",
        "        !git pull origin {REPO_BRANCH} --quiet\n",
        "        %cd ..\n",
        "    else:\n",
        "        print(f\"Cloning repository into '{REPO_NAME}'...\")\n",
        "        !git clone --quiet --branch {REPO_BRANCH} {REPO_URL} {REPO_NAME}\n",
        "        print(\"Clone complete.\")\n",
        "\n",
        "    sys.path.append('/content/src/')\n",
        "    %cd /content/src/\n",
        "    !pip install -r requirements.txt\n",
        "else:\n",
        "    if os.path.basename(os.getcwd()) == NOTEBOOK_DIR:\n",
        "        os.chdir('../../')\n",
        "\n",
        "logging.basicConfig(level=logging.ERROR, format='%(levelname)s: %(message)s')"
      ]
    },
    {
      "cell_type": "markdown",
      "id": "62b50738",
      "metadata": {
        "id": "62b50738"
      },
      "source": [
        "## Local Imports"
      ]
    },
    {
      "cell_type": "code",
      "execution_count": 10,
      "id": "4f87c1ff",
      "metadata": {
        "id": "4f87c1ff"
      },
      "outputs": [],
      "source": [
        "from src.utils.pdf_utils import extract_transcripts_pdf_df_from_dir\n",
        "from src.constants import BankType"
      ]
    },
    {
      "cell_type": "code",
      "source": [
        "BankType.GOLDMAN_SACHS.value"
      ],
      "metadata": {
        "id": "xQuckdJkkD1i",
        "outputId": "9e7d11e4-ea7b-4eac-a52f-c152c26dd5af",
        "colab": {
          "base_uri": "https://localhost:8080/",
          "height": 35
        }
      },
      "id": "xQuckdJkkD1i",
      "execution_count": 12,
      "outputs": [
        {
          "output_type": "execute_result",
          "data": {
            "text/plain": [
              "'Goldman Sachs'"
            ],
            "application/vnd.google.colaboratory.intrinsic+json": {
              "type": "string"
            }
          },
          "metadata": {},
          "execution_count": 12
        }
      ]
    },
    {
      "cell_type": "markdown",
      "id": "e76e23b5",
      "metadata": {
        "id": "e76e23b5"
      },
      "source": [
        "# Get Transcript Files"
      ]
    },
    {
      "cell_type": "code",
      "execution_count": 11,
      "id": "2545bfb2",
      "metadata": {
        "colab": {
          "base_uri": "https://localhost:8080/"
        },
        "id": "2545bfb2",
        "outputId": "fe0f94e6-b0b3-4d0e-dc0b-88f6915d2d87"
      },
      "outputs": [
        {
          "output_type": "stream",
          "name": "stderr",
          "text": [
            "WARNING:root:Could not extract text from page 31 of 'data/raw/Goldman Sachs/Transcripts/4q23_earnings_transcript.pdf'. It might contain images or scanned content.\n",
            "WARNING:root:Could not extract text from page 30 of 'data/raw/Goldman Sachs/Transcripts/4q22_earnings_transcript.pdf'. It might contain images or scanned content.\n"
          ]
        }
      ],
      "source": [
        "qna_df, discussion_df = extract_transcripts_pdf_df_from_dir(ALL_TRANSCRIPTS_PATH, BankType.GOLDMAN_SACHS)"
      ]
    },
    {
      "cell_type": "code",
      "execution_count": null,
      "id": "873e534d",
      "metadata": {
        "colab": {
          "base_uri": "https://localhost:8080/",
          "height": 293
        },
        "id": "873e534d",
        "outputId": "b2b84df7-c1ca-4bdd-886b-57c136ff0f80"
      },
      "outputs": [
        {
          "data": {
            "text/html": [
              "<div>\n",
              "<style scoped>\n",
              "    .dataframe tbody tr th:only-of-type {\n",
              "        vertical-align: middle;\n",
              "    }\n",
              "\n",
              "    .dataframe tbody tr th {\n",
              "        vertical-align: top;\n",
              "    }\n",
              "\n",
              "    .dataframe thead th {\n",
              "        text-align: right;\n",
              "    }\n",
              "</style>\n",
              "<table border=\"1\" class=\"dataframe\">\n",
              "  <thead>\n",
              "    <tr style=\"text-align: right;\">\n",
              "      <th></th>\n",
              "      <th>question_order</th>\n",
              "      <th>question_answer_group_id</th>\n",
              "      <th>speaker</th>\n",
              "      <th>role</th>\n",
              "      <th>company</th>\n",
              "      <th>content_type</th>\n",
              "      <th>content</th>\n",
              "      <th>quarter</th>\n",
              "      <th>year</th>\n",
              "    </tr>\n",
              "  </thead>\n",
              "  <tbody>\n",
              "    <tr>\n",
              "      <th>0</th>\n",
              "      <td>0</td>\n",
              "      <td>0</td>\n",
              "      <td>Glenn Schorr</td>\n",
              "      <td>None</td>\n",
              "      <td>Evercore</td>\n",
              "      <td>question</td>\n",
              "      <td>so, trading question, i mean, markets busines...</td>\n",
              "      <td>3</td>\n",
              "      <td>2024</td>\n",
              "    </tr>\n",
              "    <tr>\n",
              "      <th>1</th>\n",
              "      <td>1</td>\n",
              "      <td>0</td>\n",
              "      <td>David Solomon</td>\n",
              "      <td>Chairman, Chief Executive Ofﬁcer</td>\n",
              "      <td>Goldman Sachs</td>\n",
              "      <td>answer</td>\n",
              "      <td>i appreciate the question, glenn, and i mean,...</td>\n",
              "      <td>3</td>\n",
              "      <td>2024</td>\n",
              "    </tr>\n",
              "    <tr>\n",
              "      <th>2</th>\n",
              "      <td>2</td>\n",
              "      <td>0</td>\n",
              "      <td>Glenn Schorr</td>\n",
              "      <td>None</td>\n",
              "      <td>Evercore</td>\n",
              "      <td>question</td>\n",
              "      <td>i appreciate that. this one will be a short f...</td>\n",
              "      <td>3</td>\n",
              "      <td>2024</td>\n",
              "    </tr>\n",
              "    <tr>\n",
              "      <th>3</th>\n",
              "      <td>3</td>\n",
              "      <td>0</td>\n",
              "      <td>Denis Coleman</td>\n",
              "      <td>Chief Financial Ofﬁcer</td>\n",
              "      <td>Goldman Sachs</td>\n",
              "      <td>answer</td>\n",
              "      <td>glenn, its denis. i guess what i would sugges...</td>\n",
              "      <td>3</td>\n",
              "      <td>2024</td>\n",
              "    </tr>\n",
              "    <tr>\n",
              "      <th>4</th>\n",
              "      <td>0</td>\n",
              "      <td>1</td>\n",
              "      <td>Ebrahim Poonawala</td>\n",
              "      <td>None</td>\n",
              "      <td>Bank of America</td>\n",
              "      <td>question</td>\n",
              "      <td>i just had a follow-up ﬁrst on trading and ma...</td>\n",
              "      <td>3</td>\n",
              "      <td>2024</td>\n",
              "    </tr>\n",
              "  </tbody>\n",
              "</table>\n",
              "</div>"
            ],
            "text/plain": [
              "   question_order  question_answer_group_id            speaker  \\\n",
              "0               0                         0       Glenn Schorr   \n",
              "1               1                         0      David Solomon   \n",
              "2               2                         0       Glenn Schorr   \n",
              "3               3                         0      Denis Coleman   \n",
              "4               0                         1  Ebrahim Poonawala   \n",
              "\n",
              "                               role          company content_type  \\\n",
              "0                              None         Evercore     question   \n",
              "1  Chairman, Chief Executive Ofﬁcer    Goldman Sachs       answer   \n",
              "2                              None         Evercore     question   \n",
              "3            Chief Financial Ofﬁcer    Goldman Sachs       answer   \n",
              "4                              None  Bank of America     question   \n",
              "\n",
              "                                             content quarter  year  \n",
              "0   so, trading question, i mean, markets busines...       3  2024  \n",
              "1   i appreciate the question, glenn, and i mean,...       3  2024  \n",
              "2   i appreciate that. this one will be a short f...       3  2024  \n",
              "3   glenn, its denis. i guess what i would sugges...       3  2024  \n",
              "4   i just had a follow-up ﬁrst on trading and ma...       3  2024  "
            ]
          },
          "execution_count": 7,
          "metadata": {},
          "output_type": "execute_result"
        }
      ],
      "source": [
        "qna_df.head()"
      ]
    },
    {
      "cell_type": "code",
      "execution_count": null,
      "id": "5fb42cc8",
      "metadata": {
        "colab": {
          "base_uri": "https://localhost:8080/",
          "height": 206
        },
        "id": "5fb42cc8",
        "outputId": "0e6b2cee-e71a-4618-d63f-003418453b60"
      },
      "outputs": [
        {
          "data": {
            "text/html": [
              "<div>\n",
              "<style scoped>\n",
              "    .dataframe tbody tr th:only-of-type {\n",
              "        vertical-align: middle;\n",
              "    }\n",
              "\n",
              "    .dataframe tbody tr th {\n",
              "        vertical-align: top;\n",
              "    }\n",
              "\n",
              "    .dataframe thead th {\n",
              "        text-align: right;\n",
              "    }\n",
              "</style>\n",
              "<table border=\"1\" class=\"dataframe\">\n",
              "  <thead>\n",
              "    <tr style=\"text-align: right;\">\n",
              "      <th></th>\n",
              "      <th>speaker</th>\n",
              "      <th>role</th>\n",
              "      <th>company</th>\n",
              "      <th>content</th>\n",
              "      <th>quarter</th>\n",
              "      <th>year</th>\n",
              "    </tr>\n",
              "  </thead>\n",
              "  <tbody>\n",
              "    <tr>\n",
              "      <th>0</th>\n",
              "      <td>David Solomon</td>\n",
              "      <td>Chairman, Chief Executive Ofﬁcer</td>\n",
              "      <td>Goldman Sachs</td>\n",
              "      <td>Thank you, operator , good morning, everyone....</td>\n",
              "      <td>3</td>\n",
              "      <td>2024</td>\n",
              "    </tr>\n",
              "    <tr>\n",
              "      <th>1</th>\n",
              "      <td>Denis Coleman</td>\n",
              "      <td>Chief Financial Ofﬁcer</td>\n",
              "      <td>Goldman Sachs</td>\n",
              "      <td>Thank you, David. Good morning. Let's start w...</td>\n",
              "      <td>3</td>\n",
              "      <td>2024</td>\n",
              "    </tr>\n",
              "    <tr>\n",
              "      <th>2</th>\n",
              "      <td>David Solomon</td>\n",
              "      <td>CEO, Chairman</td>\n",
              "      <td>Goldman Sachs</td>\n",
              "      <td>Thank you, operator , and good morning, every...</td>\n",
              "      <td>4</td>\n",
              "      <td>2024</td>\n",
              "    </tr>\n",
              "    <tr>\n",
              "      <th>3</th>\n",
              "      <td>Denis Coleman</td>\n",
              "      <td>CFO</td>\n",
              "      <td>Goldman Sachs</td>\n",
              "      <td>Thank you, David, and good morning. Let's sta...</td>\n",
              "      <td>4</td>\n",
              "      <td>2024</td>\n",
              "    </tr>\n",
              "    <tr>\n",
              "      <th>4</th>\n",
              "      <td>Carey Halio</td>\n",
              "      <td>Chief Strategy Ofﬁcer, Head of Investor Relations</td>\n",
              "      <td>Goldman Sachs</td>\n",
              "      <td>Thank you. Good morning. This is Carey Halio,...</td>\n",
              "      <td>2</td>\n",
              "      <td>2023</td>\n",
              "    </tr>\n",
              "  </tbody>\n",
              "</table>\n",
              "</div>"
            ],
            "text/plain": [
              "         speaker                                               role  \\\n",
              "0  David Solomon                   Chairman, Chief Executive Ofﬁcer   \n",
              "1  Denis Coleman                             Chief Financial Ofﬁcer   \n",
              "2  David Solomon                                      CEO, Chairman   \n",
              "3  Denis Coleman                                                CFO   \n",
              "4    Carey Halio  Chief Strategy Ofﬁcer, Head of Investor Relations   \n",
              "\n",
              "         company                                            content quarter  \\\n",
              "0  Goldman Sachs   Thank you, operator , good morning, everyone....       3   \n",
              "1  Goldman Sachs   Thank you, David. Good morning. Let's start w...       3   \n",
              "2  Goldman Sachs   Thank you, operator , and good morning, every...       4   \n",
              "3  Goldman Sachs   Thank you, David, and good morning. Let's sta...       4   \n",
              "4  Goldman Sachs   Thank you. Good morning. This is Carey Halio,...       2   \n",
              "\n",
              "   year  \n",
              "0  2024  \n",
              "1  2024  \n",
              "2  2024  \n",
              "3  2024  \n",
              "4  2023  "
            ]
          },
          "execution_count": 8,
          "metadata": {},
          "output_type": "execute_result"
        }
      ],
      "source": [
        "discussion_df.head()"
      ]
    },
    {
      "cell_type": "code",
      "execution_count": null,
      "id": "725ee5b0",
      "metadata": {
        "id": "725ee5b0",
        "outputId": "9d54def8-5e74-4e75-f174-f30b7fd0b6e6"
      },
      "outputs": [
        {
          "name": "stdout",
          "output_type": "stream",
          "text": [
            "Processed files saved successfully.\n"
          ]
        }
      ],
      "source": [
        "if OUTPUT_PROCESSED_FILES:\n",
        "    qna_df.to_csv('data/processed/Goldman Sachs/qna_df.csv', index=False)\n",
        "    discussion_df.to_csv('data/processed/Goldman Sachs/discussion_df.csv', index=False)\n",
        "    print(\"Processed files saved successfully.\")"
      ]
    }
  ],
  "metadata": {
    "colab": {
      "provenance": []
    },
    "kernelspec": {
      "display_name": "Python 3",
      "language": "python",
      "name": "python3"
    },
    "language_info": {
      "codemirror_mode": {
        "name": "ipython",
        "version": 3
      },
      "file_extension": ".py",
      "mimetype": "text/x-python",
      "name": "python",
      "nbconvert_exporter": "python",
      "pygments_lexer": "ipython3",
      "version": "3.11.4"
    }
  },
  "nbformat": 4,
  "nbformat_minor": 5
}