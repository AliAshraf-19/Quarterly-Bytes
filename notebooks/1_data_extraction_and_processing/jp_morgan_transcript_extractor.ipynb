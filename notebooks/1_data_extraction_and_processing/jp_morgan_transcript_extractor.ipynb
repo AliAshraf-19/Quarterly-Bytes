{
 "cells": [
  {
   "cell_type": "markdown",
   "id": "3390045b",
   "metadata": {},
   "source": [
    "# Setup, Constants, and Imports"
   ]
  },
  {
   "cell_type": "code",
   "execution_count": 1,
   "id": "70ea4469",
   "metadata": {},
   "outputs": [],
   "source": [
    "import os\n",
    "import sys\n",
    "import logging"
   ]
  },
  {
   "cell_type": "markdown",
   "id": "fd643fb0",
   "metadata": {},
   "source": [
    "## Notebook Configs"
   ]
  },
  {
   "cell_type": "code",
   "execution_count": 2,
   "id": "3c08565b",
   "metadata": {},
   "outputs": [],
   "source": [
    "IS_COLAB = False # Update this if running in Google Colab\n",
    "OUTPUT_PROCESSED_FILES = True"
   ]
  },
  {
   "cell_type": "markdown",
   "id": "cd9d4e41",
   "metadata": {},
   "source": [
    "## Constants"
   ]
  },
  {
   "cell_type": "code",
   "execution_count": 3,
   "id": "5129180d",
   "metadata": {},
   "outputs": [],
   "source": [
    "REPO_URL = \"https://github.com/EErlando/Quarterly-Bytes.git\"\n",
    "REPO_NAME = \"src\" \n",
    "REPO_BRANCH = \"pdf_extraction_and_restructuring\" # CHANGE THIS IF NEED\n",
    "ALL_TRANSCRIPTS_PATH = \"data/raw/JP Morgan/Transcripts\"\n",
    "NOTEBOOK_DIR = \"1_data_extraction_and_processing\" # Update this to your notebook directory"
   ]
  },
  {
   "cell_type": "markdown",
   "id": "0864529e",
   "metadata": {},
   "source": [
    "## Clone and Pull Latest from Repository - Colab Specific"
   ]
  },
  {
   "cell_type": "code",
   "execution_count": 4,
   "id": "91c87440",
   "metadata": {},
   "outputs": [],
   "source": [
    "if IS_COLAB:\n",
    "    !git config pull.rebase false\n",
    "    if os.path.exists(REPO_NAME):\n",
    "        print(f\"Directory '{REPO_NAME}' already exists. Pulling latest changes...\")\n",
    "        %cd {REPO_NAME}\n",
    "        !git pull origin {REPO_BRANCH} --quiet\n",
    "        %cd ..\n",
    "    else:\n",
    "        print(f\"Cloning repository into '{REPO_NAME}'...\")\n",
    "        !git clone --quiet --branch {REPO_BRANCH} {REPO_URL} {REPO_NAME}\n",
    "        print(\"Clone complete.\")\n",
    "\n",
    "    sys.path.append('/content/src/')\n",
    "    %cd /content/src/\n",
    "    !pip install -r requirements.txt\n",
    "else:\n",
    "    if os.path.basename(os.getcwd()) == NOTEBOOK_DIR:\n",
    "        os.chdir('../../')\n",
    "\n",
    "logging.basicConfig(level=logging.ERROR, format='%(levelname)s: %(message)s')"
   ]
  },
  {
   "cell_type": "markdown",
   "id": "62b50738",
   "metadata": {},
   "source": [
    "## Local Imports"
   ]
  },
  {
   "cell_type": "code",
   "execution_count": 5,
   "id": "4f87c1ff",
   "metadata": {},
   "outputs": [],
   "source": [
    "from src.utils.pdf_utils import extract_transcripts_pdf_df_from_dir, BankType"
   ]
  },
  {
   "cell_type": "markdown",
   "id": "e76e23b5",
   "metadata": {},
   "source": [
    "# Get Transcript Files"
   ]
  },
  {
   "cell_type": "code",
   "execution_count": 6,
   "id": "2545bfb2",
   "metadata": {},
   "outputs": [],
   "source": [
    "qna_df, discussion_df = extract_transcripts_pdf_df_from_dir(ALL_TRANSCRIPTS_PATH, BankType.JPMORGAN)"
   ]
  },
  {
   "cell_type": "code",
   "execution_count": 14,
   "id": "873e534d",
   "metadata": {},
   "outputs": [
    {
     "data": {
      "text/html": [
       "<div>\n",
       "<style scoped>\n",
       "    .dataframe tbody tr th:only-of-type {\n",
       "        vertical-align: middle;\n",
       "    }\n",
       "\n",
       "    .dataframe tbody tr th {\n",
       "        vertical-align: top;\n",
       "    }\n",
       "\n",
       "    .dataframe thead th {\n",
       "        text-align: right;\n",
       "    }\n",
       "</style>\n",
       "<table border=\"1\" class=\"dataframe\">\n",
       "  <thead>\n",
       "    <tr style=\"text-align: right;\">\n",
       "      <th></th>\n",
       "      <th>question_order</th>\n",
       "      <th>question_answer_group_id</th>\n",
       "      <th>speaker</th>\n",
       "      <th>role</th>\n",
       "      <th>company</th>\n",
       "      <th>content</th>\n",
       "      <th>year</th>\n",
       "      <th>quarter</th>\n",
       "    </tr>\n",
       "  </thead>\n",
       "  <tbody>\n",
       "    <tr>\n",
       "      <th>0</th>\n",
       "      <td>0</td>\n",
       "      <td>0</td>\n",
       "      <td>John E. McDonald</td>\n",
       "      <td>Analyst</td>\n",
       "      <td>Autonomous Research</td>\n",
       "      <td>Thank you. Morning, Jeremy. Was wondering abou...</td>\n",
       "      <td>2022</td>\n",
       "      <td>1</td>\n",
       "    </tr>\n",
       "    <tr>\n",
       "      <th>1</th>\n",
       "      <td>1</td>\n",
       "      <td>0</td>\n",
       "      <td>Jeremy Barnum</td>\n",
       "      <td>Chief Financial Officer</td>\n",
       "      <td>JPMorgan Chase &amp; Co.</td>\n",
       "      <td>Good morning, John. Good question. Yeah, look,...</td>\n",
       "      <td>2022</td>\n",
       "      <td>1</td>\n",
       "    </tr>\n",
       "    <tr>\n",
       "      <th>2</th>\n",
       "      <td>2</td>\n",
       "      <td>0</td>\n",
       "      <td>John E. McDonald</td>\n",
       "      <td>Analyst</td>\n",
       "      <td>Autonomous Research</td>\n",
       "      <td>Okay. And as my follow up, could you give us s...</td>\n",
       "      <td>2022</td>\n",
       "      <td>1</td>\n",
       "    </tr>\n",
       "    <tr>\n",
       "      <th>3</th>\n",
       "      <td>3</td>\n",
       "      <td>0</td>\n",
       "      <td>Jeremy Barnum</td>\n",
       "      <td>Chief Financial Officer</td>\n",
       "      <td>JPMorgan Chase &amp; Co.</td>\n",
       "      <td>Yeah. I guess I would direct you to my comment...</td>\n",
       "      <td>2022</td>\n",
       "      <td>1</td>\n",
       "    </tr>\n",
       "    <tr>\n",
       "      <th>4</th>\n",
       "      <td>4</td>\n",
       "      <td>0</td>\n",
       "      <td>John E. McDonald</td>\n",
       "      <td>Analyst</td>\n",
       "      <td>Autonomous Research</td>\n",
       "      <td>Okay. Thanks.</td>\n",
       "      <td>2022</td>\n",
       "      <td>1</td>\n",
       "    </tr>\n",
       "  </tbody>\n",
       "</table>\n",
       "</div>"
      ],
      "text/plain": [
       "   question_order  question_answer_group_id           speaker  \\\n",
       "0               0                         0  John E. McDonald   \n",
       "1               1                         0     Jeremy Barnum   \n",
       "2               2                         0  John E. McDonald   \n",
       "3               3                         0     Jeremy Barnum   \n",
       "4               4                         0  John E. McDonald   \n",
       "\n",
       "                      role               company  \\\n",
       "0                  Analyst   Autonomous Research   \n",
       "1  Chief Financial Officer  JPMorgan Chase & Co.   \n",
       "2                  Analyst   Autonomous Research   \n",
       "3  Chief Financial Officer  JPMorgan Chase & Co.   \n",
       "4                  Analyst   Autonomous Research   \n",
       "\n",
       "                                             content  year quarter  \n",
       "0  Thank you. Morning, Jeremy. Was wondering abou...  2022       1  \n",
       "1  Good morning, John. Good question. Yeah, look,...  2022       1  \n",
       "2  Okay. And as my follow up, could you give us s...  2022       1  \n",
       "3  Yeah. I guess I would direct you to my comment...  2022       1  \n",
       "4                                      Okay. Thanks.  2022       1  "
      ]
     },
     "execution_count": 14,
     "metadata": {},
     "output_type": "execute_result"
    }
   ],
   "source": [
    "qna_df.head()"
   ]
  },
  {
   "cell_type": "code",
   "execution_count": 8,
   "id": "8f28d451",
   "metadata": {},
   "outputs": [
    {
     "data": {
      "text/plain": [
       "year\n",
       "2022    375\n",
       "2023    343\n",
       "2024    280\n",
       "2025    108\n",
       "Name: count, dtype: int64"
      ]
     },
     "execution_count": 8,
     "metadata": {},
     "output_type": "execute_result"
    }
   ],
   "source": [
    "qna_df.year.value_counts()"
   ]
  },
  {
   "cell_type": "code",
   "execution_count": 9,
   "id": "5fb42cc8",
   "metadata": {},
   "outputs": [
    {
     "data": {
      "text/html": [
       "<div>\n",
       "<style scoped>\n",
       "    .dataframe tbody tr th:only-of-type {\n",
       "        vertical-align: middle;\n",
       "    }\n",
       "\n",
       "    .dataframe tbody tr th {\n",
       "        vertical-align: top;\n",
       "    }\n",
       "\n",
       "    .dataframe thead th {\n",
       "        text-align: right;\n",
       "    }\n",
       "</style>\n",
       "<table border=\"1\" class=\"dataframe\">\n",
       "  <thead>\n",
       "    <tr style=\"text-align: right;\">\n",
       "      <th></th>\n",
       "      <th>speaker</th>\n",
       "      <th>role</th>\n",
       "      <th>company</th>\n",
       "      <th>content</th>\n",
       "      <th>year</th>\n",
       "      <th>quarter</th>\n",
       "    </tr>\n",
       "  </thead>\n",
       "  <tbody>\n",
       "    <tr>\n",
       "      <th>0</th>\n",
       "      <td>Jeremy Barnum</td>\n",
       "      <td>Chief Financial Officer</td>\n",
       "      <td>JPMorgan Chase &amp; Co.</td>\n",
       "      <td>Thanks, operator. Good morning, everyone. The ...</td>\n",
       "      <td>2022</td>\n",
       "      <td>1</td>\n",
       "    </tr>\n",
       "    <tr>\n",
       "      <th>1</th>\n",
       "      <td>Jeremy Barnum</td>\n",
       "      <td>Chief Financial Officer</td>\n",
       "      <td>JPMorgan Chase &amp; Co.</td>\n",
       "      <td>Thanks, operator. Good morning, everyone. The ...</td>\n",
       "      <td>2022</td>\n",
       "      <td>2</td>\n",
       "    </tr>\n",
       "    <tr>\n",
       "      <th>2</th>\n",
       "      <td>Jeremy Barnum</td>\n",
       "      <td>Chief Financial Officer</td>\n",
       "      <td>JPMorgan Chase &amp; Co.</td>\n",
       "      <td>Thank you very much. Good morning, everyone. A...</td>\n",
       "      <td>2022</td>\n",
       "      <td>3</td>\n",
       "    </tr>\n",
       "    <tr>\n",
       "      <th>3</th>\n",
       "      <td>Jamie Dimon</td>\n",
       "      <td>Chairman, Chief Executive Officer</td>\n",
       "      <td>JPMorgan Chase &amp; Co.</td>\n",
       "      <td>Yeah, Jeremy, thank you very much. Hello, ever...</td>\n",
       "      <td>2022</td>\n",
       "      <td>3</td>\n",
       "    </tr>\n",
       "    <tr>\n",
       "      <th>4</th>\n",
       "      <td>Jeremy Barnum</td>\n",
       "      <td>Chief Financial Officer</td>\n",
       "      <td>JPMorgan Chase &amp; Co.</td>\n",
       "      <td>Yeah. Thanks, Jamie. Let's go ahead and open u...</td>\n",
       "      <td>2022</td>\n",
       "      <td>3</td>\n",
       "    </tr>\n",
       "  </tbody>\n",
       "</table>\n",
       "</div>"
      ],
      "text/plain": [
       "         speaker                               role               company  \\\n",
       "0  Jeremy Barnum            Chief Financial Officer  JPMorgan Chase & Co.   \n",
       "1  Jeremy Barnum            Chief Financial Officer  JPMorgan Chase & Co.   \n",
       "2  Jeremy Barnum            Chief Financial Officer  JPMorgan Chase & Co.   \n",
       "3    Jamie Dimon  Chairman, Chief Executive Officer  JPMorgan Chase & Co.   \n",
       "4  Jeremy Barnum            Chief Financial Officer  JPMorgan Chase & Co.   \n",
       "\n",
       "                                             content  year quarter  \n",
       "0  Thanks, operator. Good morning, everyone. The ...  2022       1  \n",
       "1  Thanks, operator. Good morning, everyone. The ...  2022       2  \n",
       "2  Thank you very much. Good morning, everyone. A...  2022       3  \n",
       "3  Yeah, Jeremy, thank you very much. Hello, ever...  2022       3  \n",
       "4  Yeah. Thanks, Jamie. Let's go ahead and open u...  2022       3  "
      ]
     },
     "execution_count": 9,
     "metadata": {},
     "output_type": "execute_result"
    }
   ],
   "source": [
    "discussion_df.head()"
   ]
  },
  {
   "cell_type": "code",
   "execution_count": 10,
   "id": "725ee5b0",
   "metadata": {},
   "outputs": [
    {
     "name": "stdout",
     "output_type": "stream",
     "text": [
      "Processed files saved successfully.\n"
     ]
    }
   ],
   "source": [
    "if OUTPUT_PROCESSED_FILES:\n",
    "    qna_df.to_csv('data/processed/JP Morgan/qna_df.csv', index=False)\n",
    "    discussion_df.to_csv('data/processed/JP Morgan/discussion_df.csv', index=False)\n",
    "    print(\"Processed files saved successfully.\")"
   ]
  }
 ],
 "metadata": {
  "kernelspec": {
   "display_name": "Python 3",
   "language": "python",
   "name": "python3"
  },
  "language_info": {
   "codemirror_mode": {
    "name": "ipython",
    "version": 3
   },
   "file_extension": ".py",
   "mimetype": "text/x-python",
   "name": "python",
   "nbconvert_exporter": "python",
   "pygments_lexer": "ipython3",
   "version": "3.11.4"
  }
 },
 "nbformat": 4,
 "nbformat_minor": 5
}
