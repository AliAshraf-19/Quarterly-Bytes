{
 "cells": [
  {
   "cell_type": "markdown",
   "id": "3390045b",
   "metadata": {},
   "source": [
    "# Setup, Constants, and Imports"
   ]
  },
  {
   "cell_type": "code",
   "execution_count": 11,
   "id": "70ea4469",
   "metadata": {},
   "outputs": [],
   "source": [
    "import os\n",
    "import sys\n",
    "import logging"
   ]
  },
  {
   "cell_type": "markdown",
   "id": "fd643fb0",
   "metadata": {},
   "source": [
    "## Notebook Configs"
   ]
  },
  {
   "cell_type": "code",
   "execution_count": 12,
   "id": "3c08565b",
   "metadata": {},
   "outputs": [],
   "source": [
    "IS_COLAB = False # Update this if running in Google Colab\n",
    "OUTPUT_PROCESSED_FILES = True"
   ]
  },
  {
   "cell_type": "markdown",
   "id": "cd9d4e41",
   "metadata": {},
   "source": [
    "## Constants"
   ]
  },
  {
   "cell_type": "code",
   "execution_count": 13,
   "id": "5129180d",
   "metadata": {},
   "outputs": [],
   "source": [
    "REPO_URL = \"https://github.com/EErlando/Quarterly-Bytes.git\"\n",
    "REPO_NAME = \"src\" \n",
    "ALL_TRANSCRIPTS_PATH = \"data/raw/JP Morgan/Transcripts\"\n",
    "NOTEBOOK_DIR = \"1_data_extraction_and_processing\" # Update this to your notebook directory"
   ]
  },
  {
   "cell_type": "markdown",
   "id": "0864529e",
   "metadata": {},
   "source": [
    "## Clone and Pull Latest from Repository - Colab Specific"
   ]
  },
  {
   "cell_type": "code",
   "execution_count": 14,
   "id": "91c87440",
   "metadata": {},
   "outputs": [],
   "source": [
    "\n",
    "if IS_COLAB:\n",
    "    if os.path.exists(REPO_NAME):\n",
    "        print(f\"Directory '{REPO_NAME}' already exists. Pulling latest changes...\")\n",
    "        %cd {REPO_NAME}\n",
    "        !git pull --quiet\n",
    "        %cd ..\n",
    "    else:\n",
    "        print(f\"Cloning repository into '{REPO_NAME}'...\")\n",
    "        !git clone --quiet {REPO_URL} {REPO_NAME}\n",
    "        print(\"Clone complete.\")\n",
    "\n",
    "    sys.path.append('/content/src/')\n",
    "else:\n",
    "    if os.path.basename(os.getcwd()) == NOTEBOOK_DIR:\n",
    "        os.chdir('../../')\n",
    "\n",
    "logging.basicConfig(level=logging.ERROR, format='%(levelname)s: %(message)s')"
   ]
  },
  {
   "cell_type": "markdown",
   "id": "62b50738",
   "metadata": {},
   "source": [
    "## Local Imports"
   ]
  },
  {
   "cell_type": "code",
   "execution_count": 15,
   "id": "4f87c1ff",
   "metadata": {},
   "outputs": [],
   "source": [
    "from src.utils.pdf_utils import extract_transcripts_pdf_df_from_dir, BankType"
   ]
  },
  {
   "cell_type": "markdown",
   "id": "e76e23b5",
   "metadata": {},
   "source": [
    "# Get Transcript Files"
   ]
  },
  {
   "cell_type": "code",
   "execution_count": 16,
   "id": "2545bfb2",
   "metadata": {},
   "outputs": [],
   "source": [
    "qna_df, discussion_df = extract_transcripts_pdf_df_from_dir(ALL_TRANSCRIPTS_PATH, BankType.JPMORGAN)"
   ]
  },
  {
   "cell_type": "code",
   "execution_count": 17,
   "id": "873e534d",
   "metadata": {},
   "outputs": [
    {
     "data": {
      "text/html": [
       "<div>\n",
       "<style scoped>\n",
       "    .dataframe tbody tr th:only-of-type {\n",
       "        vertical-align: middle;\n",
       "    }\n",
       "\n",
       "    .dataframe tbody tr th {\n",
       "        vertical-align: top;\n",
       "    }\n",
       "\n",
       "    .dataframe thead th {\n",
       "        text-align: right;\n",
       "    }\n",
       "</style>\n",
       "<table border=\"1\" class=\"dataframe\">\n",
       "  <thead>\n",
       "    <tr style=\"text-align: right;\">\n",
       "      <th></th>\n",
       "      <th>question_answer_group_id</th>\n",
       "      <th>speaker</th>\n",
       "      <th>role</th>\n",
       "      <th>content</th>\n",
       "      <th>year</th>\n",
       "      <th>quarter</th>\n",
       "    </tr>\n",
       "  </thead>\n",
       "  <tbody>\n",
       "    <tr>\n",
       "      <th>0</th>\n",
       "      <td>0</td>\n",
       "      <td>Steven Chubak</td>\n",
       "      <td>Analyst, Wolfe Research LLC</td>\n",
       "      <td>Hey, good morning.</td>\n",
       "      <td>None</td>\n",
       "      <td>None</td>\n",
       "    </tr>\n",
       "    <tr>\n",
       "      <th>1</th>\n",
       "      <td>0</td>\n",
       "      <td>Jeremy Barnum</td>\n",
       "      <td>Chief Financial Officer, JPMorgan Chase &amp; Co.</td>\n",
       "      <td>Good morning, Steve.</td>\n",
       "      <td>None</td>\n",
       "      <td>None</td>\n",
       "    </tr>\n",
       "    <tr>\n",
       "      <th>2</th>\n",
       "      <td>0</td>\n",
       "      <td>Steven Chubak</td>\n",
       "      <td>Analyst, Wolfe Research LLC</td>\n",
       "      <td>So, Jamie, I was actually hoping to get your p...</td>\n",
       "      <td>None</td>\n",
       "      <td>None</td>\n",
       "    </tr>\n",
       "    <tr>\n",
       "      <th>3</th>\n",
       "      <td>0</td>\n",
       "      <td>Jamie Dimon</td>\n",
       "      <td>Chairman &amp; Chief Executive Officer, JPMorgan C...</td>\n",
       "      <td>Well, I think you were already kind of complet...</td>\n",
       "      <td>None</td>\n",
       "      <td>None</td>\n",
       "    </tr>\n",
       "    <tr>\n",
       "      <th>4</th>\n",
       "      <td>0</td>\n",
       "      <td>Steven Chubak</td>\n",
       "      <td>Analyst, Wolfe Research LLC</td>\n",
       "      <td>Got it. And just in terms of appetite for the ...</td>\n",
       "      <td>None</td>\n",
       "      <td>None</td>\n",
       "    </tr>\n",
       "  </tbody>\n",
       "</table>\n",
       "</div>"
      ],
      "text/plain": [
       "   question_answer_group_id        speaker  \\\n",
       "0                         0  Steven Chubak   \n",
       "1                         0  Jeremy Barnum   \n",
       "2                         0  Steven Chubak   \n",
       "3                         0    Jamie Dimon   \n",
       "4                         0  Steven Chubak   \n",
       "\n",
       "                                                role  \\\n",
       "0                        Analyst, Wolfe Research LLC   \n",
       "1      Chief Financial Officer, JPMorgan Chase & Co.   \n",
       "2                        Analyst, Wolfe Research LLC   \n",
       "3  Chairman & Chief Executive Officer, JPMorgan C...   \n",
       "4                        Analyst, Wolfe Research LLC   \n",
       "\n",
       "                                             content  year quarter  \n",
       "0                                 Hey, good morning.  None    None  \n",
       "1                               Good morning, Steve.  None    None  \n",
       "2  So, Jamie, I was actually hoping to get your p...  None    None  \n",
       "3  Well, I think you were already kind of complet...  None    None  \n",
       "4  Got it. And just in terms of appetite for the ...  None    None  "
      ]
     },
     "execution_count": 17,
     "metadata": {},
     "output_type": "execute_result"
    }
   ],
   "source": [
    "qna_df.head()"
   ]
  },
  {
   "cell_type": "code",
   "execution_count": 18,
   "id": "8f28d451",
   "metadata": {},
   "outputs": [
    {
     "data": {
      "text/plain": [
       "Series([], Name: count, dtype: int64)"
      ]
     },
     "execution_count": 18,
     "metadata": {},
     "output_type": "execute_result"
    }
   ],
   "source": [
    "qna_df.year.value_counts()"
   ]
  },
  {
   "cell_type": "code",
   "execution_count": 19,
   "id": "5fb42cc8",
   "metadata": {},
   "outputs": [
    {
     "data": {
      "text/html": [
       "<div>\n",
       "<style scoped>\n",
       "    .dataframe tbody tr th:only-of-type {\n",
       "        vertical-align: middle;\n",
       "    }\n",
       "\n",
       "    .dataframe tbody tr th {\n",
       "        vertical-align: top;\n",
       "    }\n",
       "\n",
       "    .dataframe thead th {\n",
       "        text-align: right;\n",
       "    }\n",
       "</style>\n",
       "<table border=\"1\" class=\"dataframe\">\n",
       "  <thead>\n",
       "    <tr style=\"text-align: right;\">\n",
       "      <th></th>\n",
       "      <th>speaker</th>\n",
       "      <th>role</th>\n",
       "      <th>content</th>\n",
       "      <th>year</th>\n",
       "      <th>quarter</th>\n",
       "    </tr>\n",
       "  </thead>\n",
       "  <tbody>\n",
       "    <tr>\n",
       "      <th>0</th>\n",
       "      <td>Jeremy Barnum</td>\n",
       "      <td>Chief Financial Officer, JPMorgan Chase &amp; Co.</td>\n",
       "      <td>Thanks, and good morning, everyone. The presen...</td>\n",
       "      <td>None</td>\n",
       "      <td>None</td>\n",
       "    </tr>\n",
       "    <tr>\n",
       "      <th>1</th>\n",
       "      <td>Jeremy Barnum</td>\n",
       "      <td>Chief Financial Officer, JPMorgan Chase &amp; Co.</td>\n",
       "      <td>Thanks, operator. Good morning, everyone. The ...</td>\n",
       "      <td>None</td>\n",
       "      <td>None</td>\n",
       "    </tr>\n",
       "    <tr>\n",
       "      <th>2</th>\n",
       "      <td>Jeremy Barnum</td>\n",
       "      <td>Chief Financial Officer, JPMorgan Chase &amp; Co.</td>\n",
       "      <td>Thank you very much. Good morning, everyone. A...</td>\n",
       "      <td>None</td>\n",
       "      <td>None</td>\n",
       "    </tr>\n",
       "    <tr>\n",
       "      <th>3</th>\n",
       "      <td>Jamie Dimon</td>\n",
       "      <td>Chairman &amp; Chief Executive Officer, JPMorgan C...</td>\n",
       "      <td>Yeah, Jeremy, thank you very much. Hello, ever...</td>\n",
       "      <td>None</td>\n",
       "      <td>None</td>\n",
       "    </tr>\n",
       "    <tr>\n",
       "      <th>4</th>\n",
       "      <td>Jeremy Barnum</td>\n",
       "      <td>Chief Financial Officer, JPMorgan Chase &amp; Co.</td>\n",
       "      <td>Yeah. Thanks, Jamie. Let's go ahead and open u...</td>\n",
       "      <td>None</td>\n",
       "      <td>None</td>\n",
       "    </tr>\n",
       "  </tbody>\n",
       "</table>\n",
       "</div>"
      ],
      "text/plain": [
       "         speaker                                               role  \\\n",
       "0  Jeremy Barnum      Chief Financial Officer, JPMorgan Chase & Co.   \n",
       "1  Jeremy Barnum      Chief Financial Officer, JPMorgan Chase & Co.   \n",
       "2  Jeremy Barnum      Chief Financial Officer, JPMorgan Chase & Co.   \n",
       "3    Jamie Dimon  Chairman & Chief Executive Officer, JPMorgan C...   \n",
       "4  Jeremy Barnum      Chief Financial Officer, JPMorgan Chase & Co.   \n",
       "\n",
       "                                             content  year quarter  \n",
       "0  Thanks, and good morning, everyone. The presen...  None    None  \n",
       "1  Thanks, operator. Good morning, everyone. The ...  None    None  \n",
       "2  Thank you very much. Good morning, everyone. A...  None    None  \n",
       "3  Yeah, Jeremy, thank you very much. Hello, ever...  None    None  \n",
       "4  Yeah. Thanks, Jamie. Let's go ahead and open u...  None    None  "
      ]
     },
     "execution_count": 19,
     "metadata": {},
     "output_type": "execute_result"
    }
   ],
   "source": [
    "discussion_df.head()"
   ]
  },
  {
   "cell_type": "code",
   "execution_count": 20,
   "id": "725ee5b0",
   "metadata": {},
   "outputs": [
    {
     "name": "stdout",
     "output_type": "stream",
     "text": [
      "Processed files saved successfully.\n"
     ]
    }
   ],
   "source": [
    "if OUTPUT_PROCESSED_FILES:\n",
    "    qna_df.to_csv('data/processed/JP Morgan/qna_df.csv', index=False)\n",
    "    discussion_df.to_csv('data/processed/JP Morgan/discussion_df.csv', index=False)\n",
    "    print(\"Processed files saved successfully.\")"
   ]
  }
 ],
 "metadata": {
  "kernelspec": {
   "display_name": "Python 3",
   "language": "python",
   "name": "python3"
  },
  "language_info": {
   "codemirror_mode": {
    "name": "ipython",
    "version": 3
   },
   "file_extension": ".py",
   "mimetype": "text/x-python",
   "name": "python",
   "nbconvert_exporter": "python",
   "pygments_lexer": "ipython3",
   "version": "3.11.4"
  }
 },
 "nbformat": 4,
 "nbformat_minor": 5
}
