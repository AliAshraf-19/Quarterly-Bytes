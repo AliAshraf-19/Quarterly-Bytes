{
 "cells": [
  {
   "cell_type": "markdown",
   "id": "3390045b",
   "metadata": {},
   "source": [
    "# Setup, Constants, and Imports"
   ]
  },
  {
   "cell_type": "code",
   "execution_count": 11,
   "id": "70ea4469",
   "metadata": {},
   "outputs": [],
   "source": [
    "import os\n",
    "import sys\n",
    "import logging"
   ]
  },
  {
   "cell_type": "markdown",
   "id": "fd643fb0",
   "metadata": {},
   "source": [
    "## Notebook Configs"
   ]
  },
  {
   "cell_type": "code",
   "execution_count": 1,
   "id": "3c08565b",
   "metadata": {},
   "outputs": [],
   "source": [
    "IS_COLAB = False"
   ]
  },
  {
   "cell_type": "markdown",
   "id": "cd9d4e41",
   "metadata": {},
   "source": [
    "## Constants"
   ]
  },
  {
   "cell_type": "code",
   "execution_count": null,
   "id": "5129180d",
   "metadata": {},
   "outputs": [],
   "source": [
    "REPO_URL = \"https://github.com/EErlando/Quarterly-Bytes.git\"\n",
    "REPO_NAME = \"src\" "
   ]
  },
  {
   "cell_type": "markdown",
   "id": "0864529e",
   "metadata": {},
   "source": [
    "## Clone and Pull Latest from Repository - Colab Specific"
   ]
  },
  {
   "cell_type": "code",
   "execution_count": 12,
   "id": "91c87440",
   "metadata": {},
   "outputs": [],
   "source": [
    "if IS_COLAB:\n",
    "    if os.path.exists(REPO_NAME):\n",
    "        print(f\"Directory '{REPO_NAME}' already exists. Pulling latest changes...\")\n",
    "        %cd {REPO_NAME}\n",
    "        !git pull --quiet\n",
    "        %cd ..\n",
    "    else:\n",
    "        print(f\"Cloning repository into '{REPO_NAME}'...\")\n",
    "        !git clone --quiet {REPO_URL} {REPO_NAME}\n",
    "        print(\"Clone complete.\")\n",
    "\n",
    "    sys.path.append('/content/src/')\n",
    "else:\n",
    "    if os.path.basename(os.getcwd()) == 'pdf_extractor':\n",
    "        os.chdir('../../')\n",
    "\n",
    "logging.basicConfig(level=logging.ERROR, format='%(levelname)s: %(message)s')"
   ]
  },
  {
   "cell_type": "markdown",
   "id": "e76e23b5",
   "metadata": {},
   "source": [
    "# General"
   ]
  },
  {
   "cell_type": "code",
   "execution_count": 10,
   "id": "143ac566",
   "metadata": {},
   "outputs": [
    {
     "name": "stdout",
     "output_type": "stream",
     "text": [
      "This is a test module for Leslie's code.\n",
      "It is used to verify that the import system works correctly.\n",
      "If you see this message, the import was successful.\n",
      "You can now use this module in your tests or other scripts.\n"
     ]
    }
   ],
   "source": [
    "from utils.test_module import print_leslie\n",
    "print_leslie()"
   ]
  },
  {
   "cell_type": "code",
   "execution_count": null,
   "id": "8cebd867",
   "metadata": {},
   "outputs": [],
   "source": []
  }
 ],
 "metadata": {
  "kernelspec": {
   "display_name": "Python 3",
   "language": "python",
   "name": "python3"
  },
  "language_info": {
   "codemirror_mode": {
    "name": "ipython",
    "version": 3
   },
   "file_extension": ".py",
   "mimetype": "text/x-python",
   "name": "python",
   "nbconvert_exporter": "python",
   "pygments_lexer": "ipython3",
   "version": "3.11.4"
  }
 },
 "nbformat": 4,
 "nbformat_minor": 5
}
